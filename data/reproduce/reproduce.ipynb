{
 "cells": [
  {
   "cell_type": "markdown",
   "id": "02483ca7",
   "metadata": {},
   "source": [
    "\n",
    "# Export Promptflow Outputs\n",
    "\n",
    "This script is used for downloading all the run info needed and merge them together in local environments.\n",
    "\n",
    "\n",
    "## Prerequisite\n",
    "Make sure all required libraries are installed.Use command below to install azureml.core:\n",
    "\n",
    "    pip install azureml-core"
   ]
  },
  {
   "cell_type": "code",
   "execution_count": 2,
   "id": "fb56028d",
   "metadata": {},
   "outputs": [
    {
     "name": "stderr",
     "output_type": "stream",
     "text": [
      "Failure while loading azureml_run_type_providers. Failed to load entrypoint azureml.scriptrun = azureml.core.script_run:ScriptRun._from_run_dto with exception (packaging 23.2 (/usr/local/Caskroom/miniconda/base/envs/rag-promptflow/lib/python3.10/site-packages), Requirement.parse('packaging<=23.0,>=20.0')).\n"
     ]
    }
   ],
   "source": [
    "import csv\n",
    "import json\n",
    "import logging\n",
    "import requests\n",
    "from pathlib import Path\n",
    "from azureml.core import Workspace"
   ]
  },
  {
   "cell_type": "markdown",
   "id": "241d5fdf",
   "metadata": {},
   "source": [
    "## Get workspace\n",
    "Get gonnections to workspace with personal token."
   ]
  },
  {
   "cell_type": "code",
   "execution_count": 3,
   "id": "879fe8e7",
   "metadata": {},
   "outputs": [
    {
     "name": "stderr",
     "output_type": "stream",
     "text": [
      "Warning: Falling back to use azure cli login credentials.\n",
      "If you run your code in unattended mode, i.e., where you can't give a user input, then we recommend to use ServicePrincipalAuthentication or MsiAuthentication.\n",
      "Please refer to aka.ms/aml-notebook-auth for different authentication mechanisms in azureml-sdk.\n"
     ]
    }
   ],
   "source": [
    "# Get a logger which allows us to log events that occur when running the program.\n",
    "logger = logging.getLogger(\"myLogger\")\n",
    "logger.setLevel(logging.DEBUG)\n",
    "formatter = logging.Formatter(\"%(asctime)s %(message)s\")\n",
    "ch = logging.StreamHandler()\n",
    "ch.setFormatter(formatter)\n",
    "ch.setLevel(logging.DEBUG)\n",
    "if not logger.handlers:\n",
    "    logger.addHandler(ch)\n",
    "\n",
    "# Get the workspace associated with your personal token and get the relavant datastore.\n",
    "subscription_id = \"15ae9cb6-95c1-483d-a0e3-b1a1a3b06324\"\n",
    "resource_group = \"copilot-demo-eastus\"\n",
    "workspace_name = \"copilot-demo-eastus\"\n",
    "ws = Workspace.get(workspace_name, subscription_id=subscription_id, resource_group=resource_group)\n",
    "region = ws.location\n",
    "default_datastore = ws.get_default_datastore()"
   ]
  },
  {
   "cell_type": "markdown",
   "id": "dff0d016",
   "metadata": {},
   "source": [
    "## Define utils\n",
    "Define functions for downloading and loading run info."
   ]
  },
  {
   "cell_type": "code",
   "execution_count": 4,
   "id": "0ef46110",
   "metadata": {},
   "outputs": [],
   "source": [
    "# Get run infor for the given run_id\n",
    "def get_run_info(run_id):\n",
    "    logger.info(f\"Getting Run Info for Run: {run_id}\")\n",
    "    run = ws.get_run(run_id=run_id)\n",
    "    display_name = run.display_name\n",
    "    input_run_id = run.properties.get('azureml.promptflow.input_run_id')\n",
    "    return display_name, input_run_id\n",
    "\n",
    "# Get the output asset id for the given run_id and asset_name\n",
    "def get_output_asset_id(run_id, asset_name):\n",
    "    logger.info(f\"Getting Output Asset Id for Run {run_id}\")\n",
    "    if region == \"centraluseuap\":\n",
    "        url = f\"https://int.api.azureml-test.ms/history/v1.0/subscriptions/{subscription_id}/resourceGroups/{resource_group}/providers/Microsoft.MachineLearningServices/workspaces/{workspace_name}/rundata\"\n",
    "    else:\n",
    "        url = f\"https://ml.azure.com/api/{region}/history/v1.0/subscriptions/{subscription_id}/resourceGroups/{resource_group}/providers/Microsoft.MachineLearningServices/workspaces/{workspace_name}/rundata\"\n",
    "    payload = {\n",
    "        \"runId\": run_id,\n",
    "        \"selectRunMetadata\": True\n",
    "    }\n",
    "    response = requests.post(url, json=payload, headers=ws._auth.get_authentication_header())\n",
    "    if response.status_code != 200:\n",
    "        raise Exception(f\"Failed to get output asset id for run {run_id} because RunHistory API returned status code {response.status_code}. Response: {response.text}\")\n",
    "    output_asset_id = response.json()[\"runMetadata\"][\"outputs\"][asset_name][\"assetId\"]\n",
    "    return output_asset_id\n",
    "\n",
    "# Get the asset path for the given asset_id\n",
    "def get_asset_path(asset_id):\n",
    "    logger.info(f\"Getting Asset Path for Asset Id {asset_id}\")\n",
    "    if region == \"centraluseuap\":\n",
    "        url = f\"https://int.api.azureml-test.ms/data/v1.0/subscriptions/{subscription_id}/resourceGroups/{resource_group}/providers/Microsoft.MachineLearningServices/workspaces/{workspace_name}/dataversion/getByAssetId\"\n",
    "    else:\n",
    "        url = f\"https://ml.azure.com/api/{region}/data/v1.0/subscriptions/{subscription_id}/resourceGroups/{resource_group}/providers/Microsoft.MachineLearningServices/workspaces/{workspace_name}/dataversion/getByAssetId\"\n",
    "    payload = {\n",
    "        \"value\": asset_id,\n",
    "    }\n",
    "    response = requests.post(url, json=payload, headers=ws._auth.get_authentication_header())\n",
    "    if response.status_code != 200:\n",
    "        raise Exception(f\"Failed to get asset path for asset id {asset_id} because Data API returned status code {response.status_code}. Response: {response.text}\")\n",
    "    data_uri = response.json()[\"dataVersion\"][\"dataUri\"]\n",
    "    relative_path = data_uri.split(\"/paths/\")[-1]\n",
    "    return relative_path\n",
    "\n",
    "# Get the flow artifact relative path for the given run_id\n",
    "def get_flow_artifact_relative_path(run_id):\n",
    "    logger.info(f\"Getting Flow Artifact Relative Path for Run {run_id}\")\n",
    "    try:\n",
    "        flow_artifact_asset_id = get_output_asset_id(run_id, \"debug_info\")\n",
    "        relative_path = get_asset_path(flow_artifact_asset_id)\n",
    "        relative_path += \"flow_artifacts/\"\n",
    "        return relative_path\n",
    "    except Exception as e:\n",
    "        logger.warning(\"`debug_info` output assets is not available, maybe because the job ran on old version runtime, trying to get `flow_outputs` output asset instead.\")\n",
    "        output_asset_id = get_output_asset_id(run_id, \"flow_outputs\")\n",
    "        relative_path = get_asset_path(output_asset_id)\n",
    "        return relative_path.replace(\"flow_outputs\", \"flow_artifacts\")\n",
    "\n",
    "# Download flow artifacts for the given run_id\n",
    "def download_flow_artifacts(run_id, blob_prefix):\n",
    "    logger.info(f\"Downloading Flow Artifacts for Run {run_id}\")\n",
    "    target_dir = f\"./downloads/{run_id}\"\n",
    "    default_datastore.download(target_dir, prefix=blob_prefix, overwrite=True)\n",
    "    return target_dir\n",
    "\n",
    "# Load flow artifacts of the run from the given local_dir\n",
    "def load_flow_artifacts(local_dir, run_display_name):\n",
    "    logger.info(f\"Loading Flow Artifacts of {run_display_name} from {local_dir}\")\n",
    "    flow_artifacts = {}\n",
    "    p = Path(local_dir)\n",
    "    for file_path in p.glob(\"**/*.jsonl\"):\n",
    "        with open(file_path) as fp:\n",
    "            for line in fp:\n",
    "                line_record = json.loads(line)\n",
    "                line_number = line_record.get(\"line_number\")\n",
    "                run_info = line_record.get(\"run_info\") or {}\n",
    "                status = run_info.get(\"status\")\n",
    "                outputs = run_info.get(\"output\") or {}\n",
    "                inputs = run_info.get(\"inputs\") or {}\n",
    "                modified_inputs = {f\"inputs.{k}\": v for k, v in inputs.items()}\n",
    "                record = {\n",
    "                    \"Line number\": line_number,\n",
    "                    \"Run\": run_display_name,\n",
    "                    \"Status\": status,\n",
    "                    **modified_inputs,\n",
    "                    **outputs\n",
    "                }\n",
    "                flow_artifacts[line_number] = record\n",
    "    return flow_artifacts\n",
    "\n",
    "# Get required info for the given run_id\n",
    "def get_required_info(run_id):\n",
    "    logger.info(f\"Processing Run: {run_id}\")\n",
    "    display_name, input_run_id = get_run_info(run_id)\n",
    "    flow_artifact_relative_path = get_flow_artifact_relative_path(run_id)\n",
    "\n",
    "    target_dir = download_flow_artifacts(run_id, flow_artifact_relative_path)\n",
    "    flow_artifacts = load_flow_artifacts(target_dir, display_name)\n",
    "    return {\n",
    "        \"run_id\": run_id,\n",
    "        \"display_name\": display_name,\n",
    "        \"input_run_id\": input_run_id,\n",
    "        \"flow_artifacts\": flow_artifacts\n",
    "    }\n",
    "\n",
    "# Update downstream flow artifacts with the given display_name\n",
    "def update_downstread_flow_artifacts(flow_artifacts, display_name):\n",
    "    updated_flow_artifacts = {}\n",
    "    for line_number, line_record in flow_artifacts.items():\n",
    "        updated_line_record = {}\n",
    "        for k, v in line_record.items():\n",
    "            if k == \"Run\" or k == \"Status\" or k == \"Line number\":\n",
    "                continue\n",
    "            else:\n",
    "                updated_line_record[f\"{k}({display_name})\"] = v\n",
    "        updated_flow_artifacts[line_number] = updated_line_record\n",
    "    return updated_flow_artifacts\n",
    "\n",
    "# Merge flow artifacts for the given run_infos, joining flow artifacts with the same line number\n",
    "def merge_flow_artifacts(run_infos: list):\n",
    "    run_info_dict = {run_info[\"run_id\"]: run_info for run_info in run_infos}\n",
    "    main_flow_infos = []\n",
    "    for run_id, run_info in run_info_dict.items():\n",
    "        if run_info[\"input_run_id\"] is None:\n",
    "            main_flow_infos.append(run_info)\n",
    "        else:\n",
    "            input_run_id = run_info[\"input_run_id\"]\n",
    "            if input_run_id in run_info_dict:\n",
    "                input_run_info = run_info_dict[input_run_id]\n",
    "                updated_flow_artifacts = update_downstread_flow_artifacts(run_info[\"flow_artifacts\"], run_info[\"display_name\"])\n",
    "                for line_number, updated_flow_artifact in updated_flow_artifacts.items():\n",
    "                    if line_number in input_run_info[\"flow_artifacts\"]:\n",
    "                        input_run_info[\"flow_artifacts\"][line_number].update(updated_flow_artifact)\n",
    "            else:\n",
    "                # Input Run is not included, treat this run as main flow\n",
    "                main_flow_infos.append(run_info)\n",
    "    \n",
    "    merge_result = []\n",
    "    for main_flow_info in main_flow_infos:\n",
    "        merge_result += list(main_flow_info[\"flow_artifacts\"].values())\n",
    "    merge_result = sorted(merge_result, key=lambda x: f\"{x['Line number']}{x['Run']}\")\n",
    "    return merge_result\n",
    "\n",
    "# Convert the given jsonl file to csv file\n",
    "def jsonl_to_csv(jsonl_path, csv_path):\n",
    "    max_keys = []\n",
    "    with open(jsonl_path, \"r\") as jsonl_file:\n",
    "        for line in jsonl_file:\n",
    "            row = json.loads(line)\n",
    "            if len(row.keys()) > len(max_keys):\n",
    "                max_keys = list(row.keys())\n",
    "\n",
    "    with open(jsonl_path, \"r\") as jsonl_file:\n",
    "        with open(csv_path, \"w\", newline=\"\") as csv_file:\n",
    "            writer = csv.writer(csv_file)\n",
    "            writer.writerow(max_keys)\n",
    "            for line in jsonl_file:\n",
    "                row = json.loads(line)\n",
    "                csv_row = [row.get(key) for key in max_keys]\n",
    "                writer.writerow(csv_row)\n",
    "\n",
    "def download_and_save(eval_name):\n",
    "    # Download the flow artifacts from the run_ids and merge them into a single file.\n",
    "    run_infos = [get_required_info(eval_name)]\n",
    "    merged_result = merge_flow_artifacts(run_infos)\n",
    "\n",
    "    # Save the merged result as jsonl and csv.\n",
    "    jsonl_path = \"./merged_result_1.jsonl\"\n",
    "    csv_path = f\"./{eval_name}.csv\"\n",
    "    with open(jsonl_path, \"w\") as fp:\n",
    "        for record in merged_result:\n",
    "            fp.write(json.dumps(record))\n",
    "            fp.write(\"\\n\")\n",
    "    logger.info(f\"Saved merged result as jsonl to {jsonl_path}\")\n",
    "    jsonl_to_csv(jsonl_path, csv_path)\n",
    "    logger.info(f\"Saved merged result as csv to {csv_path}\")\n",
    "\n",
    "from scipy import stats\n",
    "import pandas as pd\n",
    "def run_t_test(metric, control_name, treatment_name, control, treatment):\n",
    "    df = pd.DataFrame({\"control\":control[metric].values, \"treatment\":treatment[metric].values})\n",
    "    df.dropna(inplace=True)\n",
    "    ttest_result = stats.ttest_rel(df.treatment, df.control)\n",
    "    return dict(metric=metric, \n",
    "                control=control_name, \n",
    "                treatment=treatment_name, \n",
    "                control_mean=control[metric].mean(), \n",
    "                treatment_mean=treatment[metric].mean(),\n",
    "                change_mean=treatment[metric].mean() - control[metric].mean(), \n",
    "                p_value=ttest_result.pvalue, \n",
    "                ci_low=ttest_result.confidence_interval()[0], \n",
    "                ci_high=ttest_result.confidence_interval()[1])   "
   ]
  },
  {
   "cell_type": "code",
   "execution_count": null,
   "id": "272a59e7",
   "metadata": {},
   "outputs": [],
   "source": [
    "#create a random string for the run name\n",
    "import random\n",
    "import string\n",
    "def random_string(stringLength=10):\n",
    "    letters = string.ascii_lowercase\n",
    "    return ''.join(random.choice(letters) for i in range(stringLength))\n",
    "\n",
    "run_suffix = random_string(10)\n",
    "\n",
    "for i in range(10):\n",
    "    run_name = f\"rerun_{run_suffix}_{i}\"\n",
    "    print(run_name)\n",
    "    !pfazure run create -f ../../promptflow/rag_job.yaml --name {run_name} --stream\n",
    "    eval_name = f\"eval_{run_name}\"\n",
    "    print(\"Eval Run:\", eval_name)\n",
    "    !pfazure run create -f ../../promptflow/eval_job.yaml --run {run_name} --stream --name {eval_name}\n",
    "\n",
    "    # Download the flow artifacts from the run_ids and merge them into a single file.\n",
    "    run_infos = [get_required_info(eval_name)]\n",
    "    merged_result = merge_flow_artifacts(run_infos)\n",
    "\n",
    "    # Save the merged result as jsonl and csv.\n",
    "    jsonl_path = \"./merged_result_1.jsonl\"\n",
    "    csv_path = f\"./{eval_name}.csv\"\n",
    "    with open(jsonl_path, \"w\") as fp:\n",
    "        for record in merged_result:\n",
    "            fp.write(json.dumps(record))\n",
    "            fp.write(\"\\n\")\n",
    "    logger.info(f\"Saved merged result as jsonl to {jsonl_path}\")\n",
    "    jsonl_to_csv(jsonl_path, csv_path)\n",
    "    logger.info(f\"Saved merged result as csv to {csv_path}\")\n",
    "    \n"
   ]
  },
  {
   "cell_type": "code",
   "execution_count": null,
   "metadata": {},
   "outputs": [],
   "source": [
    "#create a random string for the run name\n",
    "import random\n",
    "import string\n",
    "def random_string(stringLength=10):\n",
    "    letters = string.ascii_lowercase\n",
    "    return ''.join(random.choice(letters) for i in range(stringLength))\n",
    "\n",
    "run_suffix = random_string(10)\n",
    "\n",
    "for i in range(10):\n",
    "    run_name = f\"rerun_{run_suffix}_{i}\"\n",
    "    print(run_name)\n",
    "    !pfazure run create -f ../../promptflow/rag_job.yaml --name {run_name} --stream\n",
    "    eval_name = f\"eval_{run_name}\"\n",
    "    print(\"Eval Run:\", eval_name)\n",
    "    !pfazure run create -f ../../promptflow/eval_job.yaml --run {run_name} --stream --name {eval_name}\n",
    "\n",
    "    # Download the flow artifacts from the run_ids and merge them into a single file.\n",
    "    run_infos = [get_required_info(eval_name)]\n",
    "    merged_result = merge_flow_artifacts(run_infos)\n",
    "\n",
    "    # Save the merged result as jsonl and csv.\n",
    "    jsonl_path = \"./merged_result_1.jsonl\"\n",
    "    csv_path = f\"./{eval_name}.csv\"\n",
    "    with open(jsonl_path, \"w\") as fp:\n",
    "        for record in merged_result:\n",
    "            fp.write(json.dumps(record))\n",
    "            fp.write(\"\\n\")\n",
    "    logger.info(f\"Saved merged result as jsonl to {jsonl_path}\")\n",
    "    jsonl_to_csv(jsonl_path, csv_path)\n",
    "    logger.info(f\"Saved merged result as csv to {csv_path}\")\n",
    "    \n"
   ]
  },
  {
   "cell_type": "code",
   "execution_count": 3,
   "id": "d1a575cd",
   "metadata": {},
   "outputs": [
    {
     "name": "stderr",
     "output_type": "stream",
     "text": [
      "/var/folders/kr/95w6h7_j311dvwwhrtydhzj00000gn/T/ipykernel_97299/581442864.py:14: FutureWarning: The default value of numeric_only in DataFrameGroupBy.mean is deprecated. In a future version, numeric_only will default to False. Either specify numeric_only or select only columns which should be valid for the function.\n",
      "  summary = df_all.groupby('Run').mean()\n"
     ]
    },
    {
     "data": {
      "text/html": [
       "<div>\n",
       "<style scoped>\n",
       "    .dataframe tbody tr th:only-of-type {\n",
       "        vertical-align: middle;\n",
       "    }\n",
       "\n",
       "    .dataframe tbody tr th {\n",
       "        vertical-align: top;\n",
       "    }\n",
       "\n",
       "    .dataframe thead th {\n",
       "        text-align: right;\n",
       "    }\n",
       "</style>\n",
       "<table border=\"1\" class=\"dataframe\">\n",
       "  <thead>\n",
       "    <tr style=\"text-align: right;\">\n",
       "      <th></th>\n",
       "      <th>Line number</th>\n",
       "      <th>inputs.line_number</th>\n",
       "      <th>gpt_coherence</th>\n",
       "      <th>gpt_fluency</th>\n",
       "      <th>gpt_groundedness</th>\n",
       "      <th>gpt_relevance</th>\n",
       "      <th>line_number</th>\n",
       "    </tr>\n",
       "  </thead>\n",
       "  <tbody>\n",
       "    <tr>\n",
       "      <th>count</th>\n",
       "      <td>84.000000</td>\n",
       "      <td>84.000000</td>\n",
       "      <td>84.000000</td>\n",
       "      <td>84.000000</td>\n",
       "      <td>84.000000</td>\n",
       "      <td>84.000000</td>\n",
       "      <td>0.0</td>\n",
       "    </tr>\n",
       "    <tr>\n",
       "      <th>mean</th>\n",
       "      <td>13.551112</td>\n",
       "      <td>13.551112</td>\n",
       "      <td>3.776924</td>\n",
       "      <td>4.010292</td>\n",
       "      <td>4.274936</td>\n",
       "      <td>3.841846</td>\n",
       "      <td>NaN</td>\n",
       "    </tr>\n",
       "    <tr>\n",
       "      <th>std</th>\n",
       "      <td>0.157176</td>\n",
       "      <td>0.157176</td>\n",
       "      <td>0.120401</td>\n",
       "      <td>0.162998</td>\n",
       "      <td>0.179852</td>\n",
       "      <td>0.172140</td>\n",
       "      <td>NaN</td>\n",
       "    </tr>\n",
       "    <tr>\n",
       "      <th>min</th>\n",
       "      <td>13.500000</td>\n",
       "      <td>13.500000</td>\n",
       "      <td>3.500000</td>\n",
       "      <td>3.642857</td>\n",
       "      <td>3.785714</td>\n",
       "      <td>3.464286</td>\n",
       "      <td>NaN</td>\n",
       "    </tr>\n",
       "    <tr>\n",
       "      <th>25%</th>\n",
       "      <td>13.500000</td>\n",
       "      <td>13.500000</td>\n",
       "      <td>3.700855</td>\n",
       "      <td>3.892857</td>\n",
       "      <td>4.214286</td>\n",
       "      <td>3.740741</td>\n",
       "      <td>NaN</td>\n",
       "    </tr>\n",
       "    <tr>\n",
       "      <th>50%</th>\n",
       "      <td>13.500000</td>\n",
       "      <td>13.500000</td>\n",
       "      <td>3.769231</td>\n",
       "      <td>4.000000</td>\n",
       "      <td>4.285714</td>\n",
       "      <td>3.821429</td>\n",
       "      <td>NaN</td>\n",
       "    </tr>\n",
       "    <tr>\n",
       "      <th>75%</th>\n",
       "      <td>13.500000</td>\n",
       "      <td>13.500000</td>\n",
       "      <td>3.857143</td>\n",
       "      <td>4.107143</td>\n",
       "      <td>4.390313</td>\n",
       "      <td>3.964286</td>\n",
       "      <td>NaN</td>\n",
       "    </tr>\n",
       "    <tr>\n",
       "      <th>max</th>\n",
       "      <td>14.291667</td>\n",
       "      <td>14.291667</td>\n",
       "      <td>4.208333</td>\n",
       "      <td>4.571429</td>\n",
       "      <td>4.571429</td>\n",
       "      <td>4.375000</td>\n",
       "      <td>NaN</td>\n",
       "    </tr>\n",
       "  </tbody>\n",
       "</table>\n",
       "</div>"
      ],
      "text/plain": [
       "       Line number  inputs.line_number  gpt_coherence  gpt_fluency  \\\n",
       "count    84.000000           84.000000      84.000000    84.000000   \n",
       "mean     13.551112           13.551112       3.776924     4.010292   \n",
       "std       0.157176            0.157176       0.120401     0.162998   \n",
       "min      13.500000           13.500000       3.500000     3.642857   \n",
       "25%      13.500000           13.500000       3.700855     3.892857   \n",
       "50%      13.500000           13.500000       3.769231     4.000000   \n",
       "75%      13.500000           13.500000       3.857143     4.107143   \n",
       "max      14.291667           14.291667       4.208333     4.571429   \n",
       "\n",
       "       gpt_groundedness  gpt_relevance  line_number  \n",
       "count         84.000000      84.000000          0.0  \n",
       "mean           4.274936       3.841846          NaN  \n",
       "std            0.179852       0.172140          NaN  \n",
       "min            3.785714       3.464286          NaN  \n",
       "25%            4.214286       3.740741          NaN  \n",
       "50%            4.285714       3.821429          NaN  \n",
       "75%            4.390313       3.964286          NaN  \n",
       "max            4.571429       4.375000          NaN  "
      ]
     },
     "execution_count": 3,
     "metadata": {},
     "output_type": "execute_result"
    }
   ],
   "source": [
    "import pandas as pd\n",
    "# list all files in the current directory that start with \"eval_rerun\"\n",
    "import os\n",
    "files = os.listdir(\"eval_3\")\n",
    "files = [f for f in files if f.startswith(\"eval_rerun\") or f.startswith(\"repeat_eval\") or f.startswith(\"eval_step\")]\n",
    "df_all = pd.DataFrame()\n",
    "for file in files:\n",
    "    data = pd.read_csv(f\"eval_3/{file}\", dtype={'Line number': 'int64'})\n",
    "    df = pd.DataFrame(data)\n",
    "    df.Run = file\n",
    "    df_all = pd.concat([df_all, df])\n",
    "\n",
    "# group by Run, then aggrate mean\n",
    "summary = df_all.groupby('Run').mean()\n",
    "summary.describe()"
   ]
  },
  {
   "cell_type": "code",
   "execution_count": 4,
   "id": "9a64a776",
   "metadata": {},
   "outputs": [
    {
     "name": "stderr",
     "output_type": "stream",
     "text": [
      "/var/folders/kr/95w6h7_j311dvwwhrtydhzj00000gn/T/ipykernel_97299/1361867876.py:6: FutureWarning: The default value of numeric_only in DataFrameGroupBy.mean is deprecated. In a future version, numeric_only will default to False. Either specify numeric_only or select only columns which should be valid for the function.\n",
      "  data = df_all.groupby('Run').mean()\n"
     ]
    },
    {
     "data": {
      "image/png": "[encoded data removed]",
      "text/plain": [
       "<Figure size 640x480 with 1 Axes>"
      ]
     },
     "metadata": {},
     "output_type": "display_data"
    }
   ],
   "source": [
    "# plot scatter ploy for each metric\n",
    "metrics =['gpt_coherence', 'gpt_fluency', 'gpt_groundedness','gpt_relevance']\n",
    "import numpy as np\n",
    "import pandas as pd\n",
    "import os\n",
    "data = df_all.groupby('Run').mean()\n",
    "# melt the dataframe to make it easier to plot\n",
    "data = data.reset_index()\n",
    "data = pd.melt(data, id_vars=['Run'], value_vars=metrics, var_name='metric', value_name='value')\n",
    "\n",
    "import seaborn as sns\n",
    "import matplotlib.pyplot as plt\n",
    "\n",
    "sns.set(style=\"whitegrid\")\n",
    "tips = sns.load_dataset(\"tips\")\n",
    "\n",
    "ax = sns.boxplot(x=\"metric\", y=\"value\", data=data, showfliers = False)\n",
    "ax = sns.swarmplot(x=\"metric\", y=\"value\", data=data, hue=\"metric\", size=2.5, palette=\"Reds_d\", linewidth=0)\n",
    "\n",
    "plt.show()\n"
   ]
  },
  {
   "cell_type": "code",
   "execution_count": 74,
   "id": "dfc20790",
   "metadata": {},
   "outputs": [
    {
     "name": "stderr",
     "output_type": "stream",
     "text": [
      "100%|██████████| 3486/3486 [00:39<00:00, 87.57it/s]\n"
     ]
    },
    {
     "data": {
      "text/html": [
       "<div>\n",
       "<style scoped>\n",
       "    .dataframe tbody tr th:only-of-type {\n",
       "        vertical-align: middle;\n",
       "    }\n",
       "\n",
       "    .dataframe tbody tr th {\n",
       "        vertical-align: top;\n",
       "    }\n",
       "\n",
       "    .dataframe thead th {\n",
       "        text-align: right;\n",
       "    }\n",
       "</style>\n",
       "<table border=\"1\" class=\"dataframe\">\n",
       "  <thead>\n",
       "    <tr style=\"text-align: right;\">\n",
       "      <th></th>\n",
       "      <th>metric</th>\n",
       "      <th>control</th>\n",
       "      <th>treatment</th>\n",
       "      <th>control_mean</th>\n",
       "      <th>treatment_mean</th>\n",
       "      <th>change_mean</th>\n",
       "      <th>p_value</th>\n",
       "      <th>ci_low</th>\n",
       "      <th>ci_high</th>\n",
       "    </tr>\n",
       "  </thead>\n",
       "  <tbody>\n",
       "    <tr>\n",
       "      <th>0</th>\n",
       "      <td>gpt_coherence</td>\n",
       "      <td>eval_rerun_dzaunfhpnr_6.csv</td>\n",
       "      <td>eval_rerun_alhlentuaw_3.csv</td>\n",
       "      <td>3.678571</td>\n",
       "      <td>3.892857</td>\n",
       "      <td>0.214286</td>\n",
       "      <td>0.246278</td>\n",
       "      <td>-0.156698</td>\n",
       "      <td>0.585269</td>\n",
       "    </tr>\n",
       "    <tr>\n",
       "      <th>0</th>\n",
       "      <td>gpt_fluency</td>\n",
       "      <td>eval_rerun_dzaunfhpnr_6.csv</td>\n",
       "      <td>eval_rerun_alhlentuaw_3.csv</td>\n",
       "      <td>4.107143</td>\n",
       "      <td>4.178571</td>\n",
       "      <td>0.071429</td>\n",
       "      <td>0.769072</td>\n",
       "      <td>-0.422769</td>\n",
       "      <td>0.565626</td>\n",
       "    </tr>\n",
       "    <tr>\n",
       "      <th>0</th>\n",
       "      <td>gpt_groundedness</td>\n",
       "      <td>eval_rerun_dzaunfhpnr_6.csv</td>\n",
       "      <td>eval_rerun_alhlentuaw_3.csv</td>\n",
       "      <td>4.357143</td>\n",
       "      <td>4.285714</td>\n",
       "      <td>-0.071429</td>\n",
       "      <td>0.662916</td>\n",
       "      <td>-0.403965</td>\n",
       "      <td>0.261108</td>\n",
       "    </tr>\n",
       "    <tr>\n",
       "      <th>0</th>\n",
       "      <td>gpt_relevance</td>\n",
       "      <td>eval_rerun_dzaunfhpnr_6.csv</td>\n",
       "      <td>eval_rerun_alhlentuaw_3.csv</td>\n",
       "      <td>3.750000</td>\n",
       "      <td>4.000000</td>\n",
       "      <td>0.250000</td>\n",
       "      <td>0.198976</td>\n",
       "      <td>-0.139551</td>\n",
       "      <td>0.639551</td>\n",
       "    </tr>\n",
       "    <tr>\n",
       "      <th>0</th>\n",
       "      <td>gpt_coherence</td>\n",
       "      <td>eval_rerun_dzaunfhpnr_6.csv</td>\n",
       "      <td>eval_rerun_kwvihdjjbg_4.csv</td>\n",
       "      <td>3.692308</td>\n",
       "      <td>3.807692</td>\n",
       "      <td>0.115385</td>\n",
       "      <td>0.502060</td>\n",
       "      <td>-0.233513</td>\n",
       "      <td>0.464282</td>\n",
       "    </tr>\n",
       "    <tr>\n",
       "      <th>...</th>\n",
       "      <td>...</td>\n",
       "      <td>...</td>\n",
       "      <td>...</td>\n",
       "      <td>...</td>\n",
       "      <td>...</td>\n",
       "      <td>...</td>\n",
       "      <td>...</td>\n",
       "      <td>...</td>\n",
       "      <td>...</td>\n",
       "    </tr>\n",
       "    <tr>\n",
       "      <th>0</th>\n",
       "      <td>gpt_relevance</td>\n",
       "      <td>eval_rerun_dzaunfhpnr_9.csv</td>\n",
       "      <td>eval_rerun_dzaunfhpnr_8.csv</td>\n",
       "      <td>4.071429</td>\n",
       "      <td>3.750000</td>\n",
       "      <td>-0.321429</td>\n",
       "      <td>0.271977</td>\n",
       "      <td>-0.909529</td>\n",
       "      <td>0.266672</td>\n",
       "    </tr>\n",
       "    <tr>\n",
       "      <th>0</th>\n",
       "      <td>gpt_coherence</td>\n",
       "      <td>eval_rerun_xffzexqndf_0.csv</td>\n",
       "      <td>eval_rerun_dzaunfhpnr_8.csv</td>\n",
       "      <td>3.821429</td>\n",
       "      <td>3.714286</td>\n",
       "      <td>-0.107143</td>\n",
       "      <td>0.448614</td>\n",
       "      <td>-0.393048</td>\n",
       "      <td>0.178763</td>\n",
       "    </tr>\n",
       "    <tr>\n",
       "      <th>0</th>\n",
       "      <td>gpt_fluency</td>\n",
       "      <td>eval_rerun_xffzexqndf_0.csv</td>\n",
       "      <td>eval_rerun_dzaunfhpnr_8.csv</td>\n",
       "      <td>4.071429</td>\n",
       "      <td>3.928571</td>\n",
       "      <td>-0.142857</td>\n",
       "      <td>0.355111</td>\n",
       "      <td>-0.454395</td>\n",
       "      <td>0.168681</td>\n",
       "    </tr>\n",
       "    <tr>\n",
       "      <th>0</th>\n",
       "      <td>gpt_groundedness</td>\n",
       "      <td>eval_rerun_xffzexqndf_0.csv</td>\n",
       "      <td>eval_rerun_dzaunfhpnr_8.csv</td>\n",
       "      <td>4.357143</td>\n",
       "      <td>4.285714</td>\n",
       "      <td>-0.071429</td>\n",
       "      <td>0.787138</td>\n",
       "      <td>-0.608813</td>\n",
       "      <td>0.465956</td>\n",
       "    </tr>\n",
       "    <tr>\n",
       "      <th>0</th>\n",
       "      <td>gpt_relevance</td>\n",
       "      <td>eval_rerun_xffzexqndf_0.csv</td>\n",
       "      <td>eval_rerun_dzaunfhpnr_8.csv</td>\n",
       "      <td>4.071429</td>\n",
       "      <td>3.678571</td>\n",
       "      <td>-0.392857</td>\n",
       "      <td>0.183712</td>\n",
       "      <td>-0.983657</td>\n",
       "      <td>0.197942</td>\n",
       "    </tr>\n",
       "  </tbody>\n",
       "</table>\n",
       "<p>13944 rows × 9 columns</p>\n",
       "</div>"
      ],
      "text/plain": [
       "              metric                      control  ...    ci_low   ci_high\n",
       "0      gpt_coherence  eval_rerun_dzaunfhpnr_6.csv  ... -0.156698  0.585269\n",
       "0        gpt_fluency  eval_rerun_dzaunfhpnr_6.csv  ... -0.422769  0.565626\n",
       "0   gpt_groundedness  eval_rerun_dzaunfhpnr_6.csv  ... -0.403965  0.261108\n",
       "0      gpt_relevance  eval_rerun_dzaunfhpnr_6.csv  ... -0.139551  0.639551\n",
       "0      gpt_coherence  eval_rerun_dzaunfhpnr_6.csv  ... -0.233513  0.464282\n",
       "..               ...                          ...  ...       ...       ...\n",
       "0      gpt_relevance  eval_rerun_dzaunfhpnr_9.csv  ... -0.909529  0.266672\n",
       "0      gpt_coherence  eval_rerun_xffzexqndf_0.csv  ... -0.393048  0.178763\n",
       "0        gpt_fluency  eval_rerun_xffzexqndf_0.csv  ... -0.454395  0.168681\n",
       "0   gpt_groundedness  eval_rerun_xffzexqndf_0.csv  ... -0.608813  0.465956\n",
       "0      gpt_relevance  eval_rerun_xffzexqndf_0.csv  ... -0.983657  0.197942\n",
       "\n",
       "[13944 rows x 9 columns]"
      ]
     },
     "execution_count": 74,
     "metadata": {},
     "output_type": "execute_result"
    }
   ],
   "source": [
    "import random, itertools\n",
    "from tqdm import tqdm\n",
    "runs = df_all.Run.unique()\n",
    "list(runs)\n",
    "pairs = list(itertools.combinations(list(runs), 2))\n",
    "\n",
    "def extract_experiments(df, treatment_name, control_name):\n",
    "    treatment = df_all[df_all.Run == treatment_name]\n",
    "    control = df_all[df_all.Run == control_name]\n",
    "    # make sure they are aligned on the line number\n",
    "    treatment = treatment.sort_values(by=['Line number'])\n",
    "    control = control.sort_values(by=['Line number'])\n",
    "    # remove lines that don't show up in both\n",
    "    treatment = treatment[treatment['Line number'].isin(control['Line number'])]\n",
    "    control = control[control['Line number'].isin(treatment['Line number'])]\n",
    "    return treatment, control\n",
    "\n",
    "results = pd.DataFrame()\n",
    "for sample in tqdm(pairs):\n",
    "    \n",
    "    for metric in ['gpt_coherence', 'gpt_fluency', 'gpt_groundedness', 'gpt_relevance']:\n",
    "        treatment, control = extract_experiments(df_all, sample[0], sample[1])\n",
    "        result = run_t_test(metric, sample[0], sample[1], control, treatment)\n",
    "        results = pd.concat([results, pd.DataFrame(result, index=[0])]) \n",
    "\n",
    "results\n",
    "\n"
   ]
  },
  {
   "cell_type": "code",
   "execution_count": 90,
   "metadata": {},
   "outputs": [
    {
     "data": {
      "image/png": "[encoded data removed]",
      "text/plain": [
       "<Figure size 1000x1000 with 4 Axes>"
      ]
     },
     "metadata": {},
     "output_type": "display_data"
    }
   ],
   "source": [
    "\n",
    "\n",
    "# make a 2 x 2 grid of histograms for each metric\n",
    "import numpy as np\n",
    "import pandas as pd\n",
    "import matplotlib.pyplot as plt\n",
    "import seaborn as sns\n",
    "\n",
    "fig, axs = plt.subplots(2, 2, figsize=(10, 10))\n",
    "axs = axs.flatten()\n",
    "for i, metric in enumerate(metrics):\n",
    "    data = results[results.metric == metric][\"p_value\"]\n",
    "    axs[i].hist(data, bins=100)\n",
    "    axs[i].set_title(metric)\n",
    "plt.show()"
   ]
  },
  {
   "cell_type": "code",
   "execution_count": null,
   "id": "e0673a5b",
   "metadata": {},
   "outputs": [],
   "source": [
    "# read all the data from the csv files\n",
    "import pandas as pd\n",
    "import numpy as np\n",
    "import matplotlib.pyplot as plt\n",
    "import os\n",
    "from scipy import stats\n",
    "\n",
    "# read the data from the csvs files in the folder\n",
    "data = pd.DataFrame()\n",
    "for file in os.listdir(\".\"):\n",
    "    if file.startswith(\"Output\") and file.endswith(\".csv\"):\n",
    "        records = pd.read_csv(file)\n",
    "        records['step'] = file[18:-4]\n",
    "        # append the records to the data\n",
    "        data  = pd.concat([data, records], ignore_index=True)\n",
    "\n",
    "# group the data by step and aggregate gpt_coherence\tgpt_fluency\tgpt_groundedness\tgpt_relevance\n",
    "metrics = {}\n",
    "for metric in ['gpt_coherence', 'gpt_fluency', 'gpt_groundedness', 'gpt_relevance']:\n",
    "    metric_data = data[['step', metric]].copy()\n",
    "    metric_data[metric] = metric_data.apply(lambda x: pd.to_numeric(x[metric], errors='coerce'), axis=1)\n",
    "    #metric_data = metric_data.dropna()\n",
    "    metrics[metric] = metric_data\n",
    "\n",
    "# for each metric, do a t-test btw each of the steps in increasing order\n",
    "# 0_baseline, 1_system_prompt, 2_chunk_size, 3_infer_intent\n",
    "results = []\n",
    "for metric, metric_data in metrics.items():\n",
    "    steps = metric_data['step'].unique()\n",
    "    steps.sort()\n",
    "    for i in range(len(steps)-1):\n",
    "        control = metric_data[metric_data['step'] == steps[i]]\n",
    "        treatment = metric_data[metric_data['step'] == steps[i+1]]\n",
    "        results.append(run_t_test(metric, steps[i], steps[i+1], control, treatment))\n",
    "    # now compare the first and the last:\n",
    "    control = metric_data[metric_data['step'] == steps[0]]\n",
    "    treatment = metric_data[metric_data['step'] == steps[-1]]\n",
    "    results.append(run_t_test(metric, steps[0], steps[-1], control, treatment))\n",
    "    \n",
    "# create a dataframe with the results\n",
    "results_df = pd.DataFrame(results)\n",
    "results_df"
   ]
  },
  {
   "cell_type": "code",
   "execution_count": 7,
   "metadata": {},
   "outputs": [
    {
     "name": "stdout",
     "output_type": "stream",
     "text": [
      "rerun_qduugbyqed_0\n",
      "2023-10-30 17:36:50 +0100   57820 execution          INFO     Process 57820 started.\n",
      "Eval Run: eval_rerun_qduugbyqed_0\n",
      "2023-10-30 17:38:14 +0100   57852 execution          INFO     Process 57852 started.\n"
     ]
    },
    {
     "name": "stderr",
     "output_type": "stream",
     "text": [
      "2023-10-30 17:39:10,225 Saved merged result as csv to eval_rerun_qduugbyqed_0.csv\n"
     ]
    },
    {
     "name": "stdout",
     "output_type": "stream",
     "text": [
      "rerun_qduugbyqed_1\n",
      "2023-10-30 17:39:12 +0100   57869 execution          INFO     Process 57869 started.\n",
      "Eval Run: eval_rerun_qduugbyqed_1\n",
      "2023-10-30 17:40:39 +0100   57883 execution          INFO     Process 57883 started.\n"
     ]
    },
    {
     "name": "stderr",
     "output_type": "stream",
     "text": [
      "2023-10-30 17:41:34,394 Saved merged result as csv to eval_rerun_qduugbyqed_1.csv\n"
     ]
    },
    {
     "name": "stdout",
     "output_type": "stream",
     "text": [
      "rerun_qduugbyqed_2\n",
      "2023-10-30 17:41:37 +0100   57904 execution          INFO     Process 57904 started.\n",
      "Eval Run: eval_rerun_qduugbyqed_2\n",
      "2023-10-30 17:43:03 +0100   57941 execution          INFO     Process 57941 started.\n"
     ]
    },
    {
     "name": "stderr",
     "output_type": "stream",
     "text": [
      "2023-10-30 17:43:57,585 Saved merged result as csv to eval_rerun_qduugbyqed_2.csv\n"
     ]
    },
    {
     "name": "stdout",
     "output_type": "stream",
     "text": [
      "rerun_qduugbyqed_3\n",
      "2023-10-30 17:44:00 +0100   57955 execution          INFO     Process 57955 started.\n",
      "Eval Run: eval_rerun_qduugbyqed_3\n",
      "2023-10-30 17:45:19 +0100   58001 execution          INFO     Process 58001 started.\n"
     ]
    },
    {
     "name": "stderr",
     "output_type": "stream",
     "text": [
      "2023-10-30 17:46:10,887 Saved merged result as csv to eval_rerun_qduugbyqed_3.csv\n"
     ]
    },
    {
     "name": "stdout",
     "output_type": "stream",
     "text": [
      "rerun_qduugbyqed_4\n",
      "2023-10-30 17:46:14 +0100   58012 execution          INFO     Process 58012 started.\n",
      "Eval Run: eval_rerun_qduugbyqed_4\n",
      "2023-10-30 17:47:41 +0100   58032 execution          INFO     Process 58032 started.\n",
      "2023-10-30 17:58:08 +0100   58234 execution          INFO     Process 58234 started.\n"
     ]
    },
    {
     "name": "stderr",
     "output_type": "stream",
     "text": [
      "[2023-10-30 17:58:35,651][promptflow._sdk.operations._run_submitter][WARNING] - 1 out of 28 runs failed in bulk run. Please check out /Users/danielsc/.promptflow/.runs/eval_rerun_qduugbyqed_4 for more details.\n",
      "2023-10-30 17:58:35,858 Saved merged result as csv to eval_rerun_qduugbyqed_4.csv\n"
     ]
    },
    {
     "name": "stdout",
     "output_type": "stream",
     "text": [
      "rerun_qduugbyqed_5\n",
      "2023-10-30 17:58:47 +0100   58249 execution          INFO     Process 58249 started.\n",
      "Eval Run: eval_rerun_qduugbyqed_5\n",
      "2023-10-30 18:00:13 +0100   58267 execution          INFO     Process 58267 started.\n"
     ]
    },
    {
     "name": "stderr",
     "output_type": "stream",
     "text": [
      "2023-10-30 18:01:08,043 Saved merged result as csv to eval_rerun_qduugbyqed_5.csv\n"
     ]
    },
    {
     "name": "stdout",
     "output_type": "stream",
     "text": [
      "rerun_qduugbyqed_6\n",
      "2023-10-30 18:01:10 +0100   58278 execution          INFO     Process 58278 started.\n",
      "Eval Run: eval_rerun_qduugbyqed_6\n",
      "2023-10-30 18:02:32 +0100   58325 execution          INFO     Process 58325 started.\n"
     ]
    },
    {
     "name": "stderr",
     "output_type": "stream",
     "text": [
      "2023-10-30 18:03:27,548 Saved merged result as csv to eval_rerun_qduugbyqed_6.csv\n"
     ]
    },
    {
     "name": "stdout",
     "output_type": "stream",
     "text": [
      "rerun_qduugbyqed_7\n",
      "2023-10-30 18:03:30 +0100   58357 execution          INFO     Process 58357 started.\n",
      "Eval Run: eval_rerun_qduugbyqed_7\n",
      "2023-10-30 18:04:52 +0100   58376 execution          INFO     Process 58376 started.\n"
     ]
    },
    {
     "name": "stderr",
     "output_type": "stream",
     "text": [
      "2023-10-30 18:05:42,705 Saved merged result as csv to eval_rerun_qduugbyqed_7.csv\n"
     ]
    },
    {
     "name": "stdout",
     "output_type": "stream",
     "text": [
      "rerun_qduugbyqed_8\n",
      "2023-10-30 18:05:45 +0100   58390 execution          INFO     Process 58390 started.\n",
      "Eval Run: eval_rerun_qduugbyqed_8\n",
      "2023-10-30 18:07:12 +0100   58421 execution          INFO     Process 58421 started.\n"
     ]
    },
    {
     "name": "stderr",
     "output_type": "stream",
     "text": [
      "2023-10-30 18:08:08,501 Saved merged result as csv to eval_rerun_qduugbyqed_8.csv\n"
     ]
    },
    {
     "name": "stdout",
     "output_type": "stream",
     "text": [
      "rerun_qduugbyqed_9\n",
      "2023-10-30 18:08:11 +0100   58452 execution          INFO     Process 58452 started.\n",
      "Eval Run: eval_rerun_qduugbyqed_9\n",
      "2023-10-30 18:09:31 +0100   58474 execution          INFO     Process 58474 started.\n"
     ]
    },
    {
     "name": "stderr",
     "output_type": "stream",
     "text": [
      "2023-10-30 18:10:22,343 Saved merged result as csv to eval_rerun_qduugbyqed_9.csv\n"
     ]
    },
    {
     "name": "stdout",
     "output_type": "stream",
     "text": [
      "rerun_qduugbyqed_10\n",
      "2023-10-30 18:10:24 +0100   58487 execution          INFO     Process 58487 started.\n",
      "Eval Run: eval_rerun_qduugbyqed_10\n",
      "2023-10-30 18:11:52 +0100   58509 execution          INFO     Process 58509 started.\n"
     ]
    },
    {
     "name": "stderr",
     "output_type": "stream",
     "text": [
      "2023-10-30 18:12:44,147 Saved merged result as csv to eval_rerun_qduugbyqed_10.csv\n"
     ]
    },
    {
     "name": "stdout",
     "output_type": "stream",
     "text": [
      "rerun_qduugbyqed_11\n",
      "2023-10-30 18:12:48 +0100   58552 execution          INFO     Process 58552 started.\n",
      "Eval Run: eval_rerun_qduugbyqed_11\n",
      "2023-10-30 18:14:23 +0100   58649 execution          INFO     Process 58649 started.\n"
     ]
    },
    {
     "name": "stderr",
     "output_type": "stream",
     "text": [
      "2023-10-30 18:15:19,269 Saved merged result as csv to eval_rerun_qduugbyqed_11.csv\n"
     ]
    },
    {
     "name": "stdout",
     "output_type": "stream",
     "text": [
      "rerun_qduugbyqed_12\n",
      "2023-10-30 18:15:22 +0100   58672 execution          INFO     Process 58672 started.\n",
      "Eval Run: eval_rerun_qduugbyqed_12\n",
      "2023-10-30 18:16:44 +0100   58765 execution          INFO     Process 58765 started.\n"
     ]
    },
    {
     "name": "stderr",
     "output_type": "stream",
     "text": [
      "2023-10-30 18:17:30,198 Saved merged result as csv to eval_rerun_qduugbyqed_12.csv\n"
     ]
    },
    {
     "name": "stdout",
     "output_type": "stream",
     "text": [
      "rerun_qduugbyqed_13\n",
      "2023-10-30 18:17:33 +0100   58845 execution          INFO     Process 58845 started.\n",
      "Eval Run: eval_rerun_qduugbyqed_13\n",
      "2023-10-30 18:18:52 +0100   58926 execution          INFO     Process 58926 started.\n"
     ]
    },
    {
     "name": "stderr",
     "output_type": "stream",
     "text": [
      "2023-10-30 18:19:38,431 Saved merged result as csv to eval_rerun_qduugbyqed_13.csv\n"
     ]
    },
    {
     "name": "stdout",
     "output_type": "stream",
     "text": [
      "rerun_qduugbyqed_14\n",
      "2023-10-30 18:19:41 +0100   58955 execution          INFO     Process 58955 started.\n",
      "Eval Run: eval_rerun_qduugbyqed_14\n",
      "2023-10-30 18:20:59 +0100   58971 execution          INFO     Process 58971 started.\n"
     ]
    },
    {
     "name": "stderr",
     "output_type": "stream",
     "text": [
      "2023-10-30 18:21:54,776 Saved merged result as csv to eval_rerun_qduugbyqed_14.csv\n"
     ]
    },
    {
     "name": "stdout",
     "output_type": "stream",
     "text": [
      "rerun_qduugbyqed_15\n",
      "2023-10-30 18:21:57 +0100   58982 execution          INFO     Process 58982 started.\n",
      "Eval Run: eval_rerun_qduugbyqed_15\n",
      "2023-10-30 18:23:18 +0100   59069 execution          INFO     Process 59069 started.\n"
     ]
    },
    {
     "name": "stderr",
     "output_type": "stream",
     "text": [
      "2023-10-30 18:24:05,394 Saved merged result as csv to eval_rerun_qduugbyqed_15.csv\n"
     ]
    },
    {
     "name": "stdout",
     "output_type": "stream",
     "text": [
      "rerun_qduugbyqed_16\n",
      "2023-10-30 18:24:08 +0100   59080 execution          INFO     Process 59080 started.\n",
      "Eval Run: eval_rerun_qduugbyqed_16\n",
      "2023-10-30 18:25:27 +0100   59112 execution          INFO     Process 59112 started.\n"
     ]
    },
    {
     "name": "stderr",
     "output_type": "stream",
     "text": [
      "2023-10-30 18:26:16,526 Saved merged result as csv to eval_rerun_qduugbyqed_16.csv\n"
     ]
    },
    {
     "name": "stdout",
     "output_type": "stream",
     "text": [
      "rerun_qduugbyqed_17\n",
      "2023-10-30 18:26:19 +0100   59137 execution          INFO     Process 59137 started.\n",
      "Eval Run: eval_rerun_qduugbyqed_17\n",
      "2023-10-30 18:27:44 +0100   59157 execution          INFO     Process 59157 started.\n"
     ]
    },
    {
     "name": "stderr",
     "output_type": "stream",
     "text": [
      "2023-10-30 18:28:31,207 Saved merged result as csv to eval_rerun_qduugbyqed_17.csv\n"
     ]
    },
    {
     "name": "stdout",
     "output_type": "stream",
     "text": [
      "rerun_qduugbyqed_18\n",
      "2023-10-30 18:28:38 +0100   59244 execution          INFO     Process 59244 started.\n",
      "Eval Run: eval_rerun_qduugbyqed_18\n",
      "2023-10-30 18:29:58 +0100   59332 execution          INFO     Process 59332 started.\n"
     ]
    },
    {
     "name": "stderr",
     "output_type": "stream",
     "text": [
      "2023-10-30 18:30:45,884 Saved merged result as csv to eval_rerun_qduugbyqed_18.csv\n"
     ]
    },
    {
     "name": "stdout",
     "output_type": "stream",
     "text": [
      "rerun_qduugbyqed_19\n",
      "2023-10-30 18:30:48 +0100   59340 execution          INFO     Process 59340 started.\n",
      "Eval Run: eval_rerun_qduugbyqed_19\n",
      "2023-10-30 18:32:11 +0100   59410 execution          INFO     Process 59410 started.\n"
     ]
    },
    {
     "name": "stderr",
     "output_type": "stream",
     "text": [
      "2023-10-30 18:33:09,495 Saved merged result as csv to eval_rerun_qduugbyqed_19.csv\n"
     ]
    },
    {
     "name": "stdout",
     "output_type": "stream",
     "text": [
      "rerun_qduugbyqed_20\n",
      "2023-10-30 18:33:12 +0100   59438 execution          INFO     Process 59438 started.\n",
      "2023-10-30 18:49:39 +0100   59477 execution          INFO     Process 59477 started.\n"
     ]
    },
    {
     "name": "stderr",
     "output_type": "stream",
     "text": [
      "[2023-10-30 18:50:41,373][promptflow._sdk.operations._run_submitter][WARNING] - 1 out of 28 runs failed in bulk run. Please check out /Users/danielsc/.promptflow/.runs/rerun_qduugbyqed_20 for more details.\n"
     ]
    },
    {
     "name": "stdout",
     "output_type": "stream",
     "text": [
      "Eval Run: eval_rerun_qduugbyqed_20\n",
      "2023-10-30 18:50:46 +0100   59580 execution          INFO     Process 59580 started.\n"
     ]
    },
    {
     "name": "stderr",
     "output_type": "stream",
     "text": [
      "2023-10-30 18:51:41,406 Saved merged result as csv to eval_rerun_qduugbyqed_20.csv\n"
     ]
    },
    {
     "name": "stdout",
     "output_type": "stream",
     "text": [
      "rerun_qduugbyqed_21\n",
      "2023-10-30 18:51:44 +0100   59620 execution          INFO     Process 59620 started.\n",
      "Eval Run: eval_rerun_qduugbyqed_21\n",
      "2023-10-30 18:53:04 +0100   59632 execution          INFO     Process 59632 started.\n"
     ]
    },
    {
     "name": "stderr",
     "output_type": "stream",
     "text": [
      "2023-10-30 18:53:53,269 Saved merged result as csv to eval_rerun_qduugbyqed_21.csv\n"
     ]
    },
    {
     "name": "stdout",
     "output_type": "stream",
     "text": [
      "rerun_qduugbyqed_22\n",
      "2023-10-30 18:53:56 +0100   59639 execution          INFO     Process 59639 started.\n",
      "Eval Run: eval_rerun_qduugbyqed_22\n",
      "2023-10-30 18:55:17 +0100   59661 execution          INFO     Process 59661 started.\n"
     ]
    },
    {
     "name": "stderr",
     "output_type": "stream",
     "text": [
      "2023-10-30 18:56:04,735 Saved merged result as csv to eval_rerun_qduugbyqed_22.csv\n"
     ]
    },
    {
     "name": "stdout",
     "output_type": "stream",
     "text": [
      "rerun_qduugbyqed_23\n",
      "2023-10-30 18:56:08 +0100   59667 execution          INFO     Process 59667 started.\n",
      "Eval Run: eval_rerun_qduugbyqed_23\n",
      "2023-10-30 18:57:29 +0100   59690 execution          INFO     Process 59690 started.\n"
     ]
    },
    {
     "name": "stderr",
     "output_type": "stream",
     "text": [
      "2023-10-30 18:58:20,862 Saved merged result as csv to eval_rerun_qduugbyqed_23.csv\n"
     ]
    },
    {
     "name": "stdout",
     "output_type": "stream",
     "text": [
      "rerun_qduugbyqed_24\n",
      "2023-10-30 18:58:24 +0100   59713 execution          INFO     Process 59713 started.\n",
      "2023-10-30 19:08:51 +0100   60016 execution          INFO     Process 60016 started.\n"
     ]
    },
    {
     "name": "stderr",
     "output_type": "stream",
     "text": [
      "[2023-10-30 19:09:48,303][promptflow._sdk.operations._run_submitter][WARNING] - 1 out of 28 runs failed in bulk run. Please check out /Users/danielsc/.promptflow/.runs/rerun_qduugbyqed_24 for more details.\n"
     ]
    },
    {
     "name": "stdout",
     "output_type": "stream",
     "text": [
      "Eval Run: eval_rerun_qduugbyqed_24\n",
      "2023-10-30 19:09:52 +0100   60042 execution          INFO     Process 60042 started.\n"
     ]
    },
    {
     "name": "stderr",
     "output_type": "stream",
     "text": [
      "2023-10-30 19:10:48,965 Saved merged result as csv to eval_rerun_qduugbyqed_24.csv\n"
     ]
    }
   ],
   "source": [
    "#create a random string for the run name\n",
    "import random\n",
    "import string\n",
    "import promptflow as pf\n",
    "import pandas as pd\n",
    "\n",
    "def random_string(stringLength=10):\n",
    "    letters = string.ascii_lowercase\n",
    "    return ''.join(random.choice(letters) for i in range(stringLength))\n",
    "\n",
    "run_suffix = random_string(10)\n",
    "flow=\"../../src/rag_flow_0/\"\n",
    "cli = pf.PFClient()\n",
    "\n",
    "for i in range(25):\n",
    "    run_name = f\"rerun_{run_suffix}_{i}\"\n",
    "    print(run_name)\n",
    "    rag_run = cli.run(  flow=flow,\n",
    "                        data=\"../../data/prompt_input/questions.jsonl\",\n",
    "                        column_mapping={\"chat_history\": \"${data.chat_history}\", \"question\": \"${data.question}\"},\n",
    "                        name=run_name)\n",
    "\n",
    "    eval_name = f\"eval_{run_name}\"\n",
    "    print(\"Eval Run:\", eval_name)\n",
    "\n",
    "    eval_run = cli.run( flow=\"../../src/eval_flow/\",\n",
    "                        run=run_name,\n",
    "                        column_mapping={\"chat_history\": \"${run.inputs.chat_history}\", \n",
    "                                        \"question\": \"${run.inputs.question}\",\n",
    "                                        \"answer\": \"${run.outputs.answer}\",\n",
    "                                        \"context\": \"${run.outputs.context}\"},\n",
    "                        name=eval_name)\n",
    "\n",
    "    rag_output = pd.read_json(f\"{rag_run._output_path}/flow_outputs/output.jsonl\", lines=True)  \n",
    "    eval_output = pd.read_json(f\"{eval_run._output_path}/flow_outputs/output.jsonl\", lines=True)\n",
    "\n",
    "    # merge rag and eval output on line_number\n",
    "    merged_output = pd.merge(rag_output, eval_output, on=\"line_number\", suffixes=(\"_rag\", \"_eval\"))\n",
    "    merged_output[\"flow\"] = flow\n",
    "    merged_output[\"run_name\"] = run_name\n",
    "    merged_output.to_csv(f\"{eval_name}.csv\", index=False)\n",
    "    logger.info(f\"Saved merged result as csv to {eval_name}.csv\")"
   ]
  },
  {
   "cell_type": "code",
   "execution_count": 8,
   "metadata": {},
   "outputs": [
    {
     "name": "stderr",
     "output_type": "stream",
     "text": [
      "/var/folders/kr/95w6h7_j311dvwwhrtydhzj00000gn/T/ipykernel_54837/714055299.py:15: FutureWarning: The default value of numeric_only in DataFrameGroupBy.mean is deprecated. In a future version, numeric_only will default to False. Either specify numeric_only or select only columns which should be valid for the function.\n",
      "  summary = df_all.groupby('run_name').mean()\n"
     ]
    },
    {
     "data": {
      "text/html": [
       "<div>\n",
       "<style scoped>\n",
       "    .dataframe tbody tr th:only-of-type {\n",
       "        vertical-align: middle;\n",
       "    }\n",
       "\n",
       "    .dataframe tbody tr th {\n",
       "        vertical-align: top;\n",
       "    }\n",
       "\n",
       "    .dataframe thead th {\n",
       "        text-align: right;\n",
       "    }\n",
       "</style>\n",
       "<table border=\"1\" class=\"dataframe\">\n",
       "  <thead>\n",
       "    <tr style=\"text-align: right;\">\n",
       "      <th></th>\n",
       "      <th>line_number</th>\n",
       "      <th>gpt_coherence</th>\n",
       "      <th>gpt_fluency</th>\n",
       "      <th>gpt_groundedness</th>\n",
       "      <th>gpt_relevance</th>\n",
       "    </tr>\n",
       "  </thead>\n",
       "  <tbody>\n",
       "    <tr>\n",
       "      <th>count</th>\n",
       "      <td>51.000000</td>\n",
       "      <td>51.000000</td>\n",
       "      <td>51.000000</td>\n",
       "      <td>51.000000</td>\n",
       "      <td>51.000000</td>\n",
       "    </tr>\n",
       "    <tr>\n",
       "      <th>mean</th>\n",
       "      <td>13.509804</td>\n",
       "      <td>4.686326</td>\n",
       "      <td>4.701084</td>\n",
       "      <td>2.591607</td>\n",
       "      <td>2.684070</td>\n",
       "    </tr>\n",
       "    <tr>\n",
       "      <th>std</th>\n",
       "      <td>0.051099</td>\n",
       "      <td>0.035962</td>\n",
       "      <td>0.038715</td>\n",
       "      <td>0.038610</td>\n",
       "      <td>0.077303</td>\n",
       "    </tr>\n",
       "    <tr>\n",
       "      <th>min</th>\n",
       "      <td>13.481481</td>\n",
       "      <td>4.607143</td>\n",
       "      <td>4.607143</td>\n",
       "      <td>2.481481</td>\n",
       "      <td>2.500000</td>\n",
       "    </tr>\n",
       "    <tr>\n",
       "      <th>25%</th>\n",
       "      <td>13.500000</td>\n",
       "      <td>4.642857</td>\n",
       "      <td>4.678571</td>\n",
       "      <td>2.571429</td>\n",
       "      <td>2.642857</td>\n",
       "    </tr>\n",
       "    <tr>\n",
       "      <th>50%</th>\n",
       "      <td>13.500000</td>\n",
       "      <td>4.714286</td>\n",
       "      <td>4.714286</td>\n",
       "      <td>2.571429</td>\n",
       "      <td>2.678571</td>\n",
       "    </tr>\n",
       "    <tr>\n",
       "      <th>75%</th>\n",
       "      <td>13.500000</td>\n",
       "      <td>4.714286</td>\n",
       "      <td>4.714286</td>\n",
       "      <td>2.642857</td>\n",
       "      <td>2.714286</td>\n",
       "    </tr>\n",
       "    <tr>\n",
       "      <th>max</th>\n",
       "      <td>13.777778</td>\n",
       "      <td>4.750000</td>\n",
       "      <td>4.750000</td>\n",
       "      <td>2.703704</td>\n",
       "      <td>2.892857</td>\n",
       "    </tr>\n",
       "  </tbody>\n",
       "</table>\n",
       "</div>"
      ],
      "text/plain": [
       "       line_number  gpt_coherence  gpt_fluency  gpt_groundedness  \\\n",
       "count    51.000000      51.000000    51.000000         51.000000   \n",
       "mean     13.509804       4.686326     4.701084          2.591607   \n",
       "std       0.051099       0.035962     0.038715          0.038610   \n",
       "min      13.481481       4.607143     4.607143          2.481481   \n",
       "25%      13.500000       4.642857     4.678571          2.571429   \n",
       "50%      13.500000       4.714286     4.714286          2.571429   \n",
       "75%      13.500000       4.714286     4.714286          2.642857   \n",
       "max      13.777778       4.750000     4.750000          2.703704   \n",
       "\n",
       "       gpt_relevance  \n",
       "count      51.000000  \n",
       "mean        2.684070  \n",
       "std         0.077303  \n",
       "min         2.500000  \n",
       "25%         2.642857  \n",
       "50%         2.678571  \n",
       "75%         2.714286  \n",
       "max         2.892857  "
      ]
     },
     "execution_count": 8,
     "metadata": {},
     "output_type": "execute_result"
    }
   ],
   "source": [
    "\n",
    "import pandas as pd\n",
    "# list all files in the current directory that start with \"eval_rerun\"\n",
    "import os\n",
    "folder = '.'\n",
    "files = os.listdir(folder)\n",
    "files = [f for f in files if f.startswith(\"eval_rerun\")]\n",
    "df_all = pd.DataFrame()\n",
    "for file in files:\n",
    "    data = pd.read_csv(f\"{folder}/{file}\", dtype={'line_number': 'int64'})\n",
    "    df = pd.DataFrame(data)\n",
    "    df[\"Run\"] = file\n",
    "    df_all = pd.concat([df_all, df])\n",
    "\n",
    "# group by Run, then aggrate mean\n",
    "summary = df_all.groupby('run_musiname').mean()\n",
    "summary.describe()"
   ]
  },
  {
   "cell_type": "code",
   "execution_count": null,
   "metadata": {},
   "outputs": [],
   "source": []
  }
 ],
 "metadata": {
  "kernelspec": {
   "display_name": "rag-promptflow",
   "language": "python",
   "name": "python3"
  },
  "language_info": {
   "codemirror_mode": {
    "name": "ipython",
    "version": 3
   },
   "file_extension": ".py",
   "mimetype": "text/x-python",
   "name": "python",
   "nbconvert_exporter": "python",
   "pygments_lexer": "ipython3",
   "version": "3.10.4"
  }
 },
 "nbformat": 4,
 "nbformat_minor": 5
}
