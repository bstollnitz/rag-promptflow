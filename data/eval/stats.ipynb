{
 "cells": [
  {
   "cell_type": "code",
   "execution_count": 5,
   "metadata": {},
   "outputs": [
    {
     "ename": "TypeError",
     "evalue": "list indices must be integers or slices, not str",
     "output_type": "error",
     "traceback": [
      "\u001b[0;31m---------------------------------------------------------------------------\u001b[0m",
      "\u001b[0;31mTypeError\u001b[0m                                 Traceback (most recent call last)",
      "\u001b[1;32m/Users/danielsc/git/rag-promptflow/data/eval/stats.ipynb Cell 1\u001b[0m line \u001b[0;36m1\n\u001b[1;32m      <a href='vscode-notebook-cell:/Users/danielsc/git/rag-promptflow/data/eval/stats.ipynb#W0sZmlsZQ%3D%3D?line=8'>9</a>\u001b[0m \u001b[39mif\u001b[39;00m file\u001b[39m.\u001b[39mendswith(\u001b[39m\"\u001b[39m\u001b[39m.csv\u001b[39m\u001b[39m\"\u001b[39m):\n\u001b[1;32m     <a href='vscode-notebook-cell:/Users/danielsc/git/rag-promptflow/data/eval/stats.ipynb#W0sZmlsZQ%3D%3D?line=9'>10</a>\u001b[0m     data\u001b[39m.\u001b[39mappend(pd\u001b[39m.\u001b[39mread_csv(file)\u001b[39m.\u001b[39mto_dict(\u001b[39m'\u001b[39m\u001b[39mrecords\u001b[39m\u001b[39m'\u001b[39m))\n\u001b[0;32m---> <a href='vscode-notebook-cell:/Users/danielsc/git/rag-promptflow/data/eval/stats.ipynb#W0sZmlsZQ%3D%3D?line=10'>11</a>\u001b[0m     data[\u001b[39m-\u001b[39;49m\u001b[39m1\u001b[39;49m][\u001b[39m\"\u001b[39;49m\u001b[39mstep\u001b[39;49m\u001b[39m\"\u001b[39;49m] \u001b[39m=\u001b[39m file[\u001b[39m16\u001b[39m:\u001b[39m20\u001b[39m] \n",
      "\u001b[0;31mTypeError\u001b[0m: list indices must be integers or slices, not str"
     ]
    }
   ],
   "source": [
    "# read all the data from the csv files\n",
    "import pandas as pd\n",
    "import numpy as np\n",
    "import matplotlib.pyplot as plt\n",
    "import os\n",
    "# read the data from the csvs files in the folder\n",
    "data = []\n",
    "for file in os.listdir(\".\"):\n",
    "    if file.endswith(\".csv\"):\n",
    "        data.append(pd.read_csv(file).to_dict('records'))\n",
    "        data[-1][\"step\"] = data[-1][\"display_name\"][5:]\n",
    "\n"
   ]
  },
  {
   "cell_type": "code",
   "execution_count": 6,
   "metadata": {},
   "outputs": [
    {
     "data": {
      "text/plain": [
       "[[{'displayName': 'eval_step_0',\n",
       "   'status': 'Completed',\n",
       "   'createdOn': '2023-10-10T11:50:28.0940673+00:00',\n",
       "   'duration': 60723.3949,\n",
       "   'gpt_coherence': 4.14,\n",
       "   'gpt_coherence_pass_rate(%)': 82.14,\n",
       "   'gpt_fluency': 4.15,\n",
       "   'gpt_fluency_pass_rate(%)': 75,\n",
       "   'gpt_groundedness': 3.41,\n",
       "   'gpt_groundedness_pass_rate(%)': 42.86,\n",
       "   'gpt_relevance': 2.71,\n",
       "   'gpt_relevance_pass_rate(%)': 39.29}]]"
      ]
     },
     "execution_count": 6,
     "metadata": {},
     "output_type": "execute_result"
    }
   ],
   "source": [
    "data"
   ]
  },
  {
   "cell_type": "code",
   "execution_count": null,
   "metadata": {},
   "outputs": [],
   "source": []
  }
 ],
 "metadata": {
  "kernelspec": {
   "display_name": "rag-promptflow",
   "language": "python",
   "name": "python3"
  },
  "language_info": {
   "codemirror_mode": {
    "name": "ipython",
    "version": 3
   },
   "file_extension": ".py",
   "mimetype": "text/x-python",
   "name": "python",
   "nbconvert_exporter": "python",
   "pygments_lexer": "ipython3",
   "version": "3.10.4"
  }
 },
 "nbformat": 4,
 "nbformat_minor": 2
}
